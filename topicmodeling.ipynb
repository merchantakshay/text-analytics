{
 "cells": [
  {
   "cell_type": "code",
   "execution_count": 1,
   "metadata": {},
   "outputs": [
    {
     "name": "stdout",
     "output_type": "stream",
     "text": [
      "showing info https://raw.githubusercontent.com/nltk/nltk_data/gh-pages/index.xml\n"
     ]
    }
   ],
   "source": [
    "#imports\n",
    "import string\n",
    "import numpy as np\n",
    "import pandas as pd\n",
    "from glob import glob\n",
    "import nltk\n",
    "from nltk.corpus import stopwords\n",
    "from nltk.tokenize import word_tokenize\n",
    "from nltk.util import ngrams\n",
    "from nltk.stem import PorterStemmer\n",
    "from nltk.tokenize import sent_tokenize\n",
    "from collections import Counter\n",
    "from sklearn.feature_extraction.text import TfidfVectorizer, CountVectorizer\n",
    "from sklearn.decomposition import LatentDirichletAllocation, NMF\n",
    "\n",
    "nltk.download()\n",
    "ps = PorterStemmer()\n",
    "dictionary = []"
   ]
  },
  {
   "cell_type": "code",
   "execution_count": 2,
   "metadata": {
    "collapsed": true
   },
   "outputs": [],
   "source": [
    "#pre-process files\n",
    "def extract(folderpath):\n",
    "    docs = glob(folderpath)    \n",
    "    for d in docs:\n",
    "        file = open(d,'r', errors='ignore')\n",
    "        readfile = file.readlines()\n",
    "        readfile = ' '.join(readfile)\n",
    "        #filter text to remove stopwords, punctuation, numbers\n",
    "        stop_words = set(stopwords.words('english'))\n",
    "        word_tokens = word_tokenize(readfile)\n",
    "        punctuation = set(string.punctuation)\n",
    "        filtered_sentence = ' '.join(w for w in word_tokens if not w in stop_words)\n",
    "        filtered_sentence = ''.join(ch for ch in filtered_sentence if ch not in punctuation)\n",
    "        filtered_sentence = ''.join([i for i in filtered_sentence if not i.isdigit()])\n",
    "        filtered_sentence = filtered_sentence.lower()\n",
    "        #unigram -- tokenize\n",
    "        unigram = word_tokenize(filtered_sentence)\n",
    "        #stemming\n",
    "        stemming = []\n",
    "        for u in unigram:\n",
    "            stemming = stemming+[(ps.stem(u))]\n",
    "            stemmed = ' '.join(stemming)\n",
    "        #append into dictionary\n",
    "        dictionary.append(stemmed)\n",
    "    return(dictionary)"
   ]
  },
  {
   "cell_type": "code",
   "execution_count": 3,
   "metadata": {
    "collapsed": true
   },
   "outputs": [],
   "source": [
    "#display topics\n",
    "def display_topics(model, feature_names, no_top_words):\n",
    "    for topic_idx, topic in enumerate(model.components_):\n",
    "        print(\"Topic %d:\" % (topic_idx))\n",
    "        print(\" \".join([feature_names[i]\n",
    "                        for i in topic.argsort()[:-no_top_words - 1:-1]]))"
   ]
  },
  {
   "cell_type": "code",
   "execution_count": 4,
   "metadata": {
    "collapsed": true
   },
   "outputs": [],
   "source": [
    "#read files\n",
    "dictionary = extract('C:/Users/aksha/Desktop/Text Analytics/Homework3/Split train/*.txt')"
   ]
  },
  {
   "cell_type": "code",
   "execution_count": 5,
   "metadata": {},
   "outputs": [],
   "source": [
    "#tf matrix for LDA, NMF\n",
    "tfidf = TfidfVectorizer(min_df = 0.01, max_df = 0.99, max_features = 1000)\n",
    "matrix = np.asarray(tfidf.fit_transform(dictionary).todense())\n",
    "feature_names = tfidf.get_feature_names()"
   ]
  },
  {
   "cell_type": "code",
   "execution_count": 6,
   "metadata": {},
   "outputs": [
    {
     "data": {
      "text/plain": [
       "LatentDirichletAllocation(batch_size=128, doc_topic_prior=None,\n",
       "             evaluate_every=-1, learning_decay=0.7,\n",
       "             learning_method='online', learning_offset=50.0,\n",
       "             max_doc_update_iter=100, max_iter=5, mean_change_tol=0.001,\n",
       "             n_jobs=1, n_topics=20, perp_tol=0.1, random_state=1,\n",
       "             topic_word_prior=None, total_samples=1000000.0, verbose=0)"
      ]
     },
     "execution_count": 6,
     "metadata": {},
     "output_type": "execute_result"
    }
   ],
   "source": [
    "#Latent Dirichlet Allocation\n",
    "lda = LatentDirichletAllocation(n_topics = 20, max_iter = 5, learning_method = 'online', learning_offset = 50.,random_state = 1)\n",
    "lda.fit(matrix)"
   ]
  },
  {
   "cell_type": "code",
   "execution_count": 7,
   "metadata": {},
   "outputs": [
    {
     "data": {
      "text/plain": [
       "NMF(alpha=0.1, beta=1, eta=0.1, init='nndsvd', l1_ratio=0.5, max_iter=200,\n",
       "  n_components=20, nls_max_iter=2000, random_state=1, shuffle=False,\n",
       "  solver='cd', sparseness=None, tol=0.0001, verbose=0)"
      ]
     },
     "execution_count": 7,
     "metadata": {},
     "output_type": "execute_result"
    }
   ],
   "source": [
    "#Non-Negative Matrix Factorization\n",
    "nmf = NMF(n_components = 20, random_state=1, alpha=.1, l1_ratio=.5, init='nndsvd')\n",
    "nmf.fit(matrix)"
   ]
  },
  {
   "cell_type": "code",
   "execution_count": 8,
   "metadata": {},
   "outputs": [
    {
     "name": "stdout",
     "output_type": "stream",
     "text": [
      "Topic 0:\n",
      "work one year power famili make anoth noth show rather\n",
      "Topic 1:\n",
      "perform movi much entertain filmmak the actor scene nt make\n",
      "Topic 2:\n",
      "documentari still think you nt may it would make even\n",
      "Topic 3:\n",
      "charact like best play minut need want hard nt film\n",
      "Topic 4:\n",
      "enough well even though make film it movi might screen\n",
      "Topic 5:\n",
      "film would beauti mani ultim real the stori like it\n",
      "Topic 6:\n",
      "bad what without humor know movi film like the it\n",
      "Topic 7:\n",
      "director take realli made big long film it time screen\n",
      "Topic 8:\n",
      "it rrb lrb funni end hollywood far becom heart movi\n",
      "Topic 9:\n",
      "an someth action as lot effect film movi the there\n",
      "Topic 10:\n",
      "watch pictur audienc but often find everi screen re film\n",
      "Topic 11:\n",
      "thi time plot yet enjoy gener movi film one it\n",
      "Topic 12:\n",
      "good could also first might live movi film it one\n",
      "Topic 13:\n",
      "come never thriller charm world human keep less tri laugh\n",
      "Topic 14:\n",
      "seem cast tale origin ever the make movi film made\n",
      "Topic 15:\n",
      "the feel look nt get thing film quit ca like\n",
      "Topic 16:\n",
      "comedi see interest emot great visual two kind peopl the\n",
      "Topic 17:\n",
      "littl drama new give there us moment in almost point\n",
      "Topic 18:\n",
      "may direct act fun script the it great movi even\n",
      "Topic 19:\n",
      "stori way life love go better lack if sens the\n"
     ]
    }
   ],
   "source": [
    "#lda topics\n",
    "display_topics(lda, feature_names, 10)"
   ]
  },
  {
   "cell_type": "code",
   "execution_count": 9,
   "metadata": {},
   "outputs": [
    {
     "name": "stdout",
     "output_type": "stream",
     "text": [
      "Topic 0:\n",
      "the script thing filmmak cast action emot direct seem never\n",
      "Topic 1:\n",
      "film made never best come love director there year way\n",
      "Topic 2:\n",
      "movi bad made best year kind mani go everi if\n",
      "Topic 3:\n",
      "it hard great direct may see also yet look someth\n",
      "Topic 4:\n",
      "rrb lrb rather audienc human mani live well love us\n",
      "Topic 5:\n",
      "nt ca enough get go if you would want quit\n",
      "Topic 6:\n",
      "like feel play look watch seem life minut if thing\n",
      "Topic 7:\n",
      "one year best ever anoth thing great mani big world\n",
      "Topic 8:\n",
      "stori love littl take also us filmmak give if director\n",
      "Topic 9:\n",
      "comedi charm come gener would kind laugh humor enjoy hollywood\n",
      "Topic 10:\n",
      "make seem what lack enough sens entertain look director us\n",
      "Topic 11:\n",
      "charact plot never audienc interest life us script two cast\n",
      "Topic 12:\n",
      "an drama entertain thriller tale ultim documentari point someth look\n",
      "Topic 13:\n",
      "thi thing drama pictur long life thriller bad minut kind\n",
      "Topic 14:\n",
      "work well may actor interest yet script end often love\n",
      "Topic 15:\n",
      "time minut long watch mani there get take well look\n",
      "Topic 16:\n",
      "perform give cast great actor two charm script best come\n",
      "Topic 17:\n",
      "funni littl realli enough beauti moment often charm way even\n",
      "Topic 18:\n",
      "much even better never would way entertain seem there take\n",
      "Topic 19:\n",
      "good bad way actor look act fun origin noth us\n"
     ]
    }
   ],
   "source": [
    "#nmf topics\n",
    "display_topics(nmf, feature_names, 10)"
   ]
  }
 ],
 "metadata": {
  "kernelspec": {
   "display_name": "Python 3",
   "language": "python",
   "name": "python3"
  },
  "language_info": {
   "codemirror_mode": {
    "name": "ipython",
    "version": 3
   },
   "file_extension": ".py",
   "mimetype": "text/x-python",
   "name": "python",
   "nbconvert_exporter": "python",
   "pygments_lexer": "ipython3",
   "version": "3.6.2"
  }
 },
 "nbformat": 4,
 "nbformat_minor": 2
}
